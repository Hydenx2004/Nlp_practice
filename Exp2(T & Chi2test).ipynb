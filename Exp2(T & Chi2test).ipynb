{
  "nbformat": 4,
  "nbformat_minor": 0,
  "metadata": {
    "colab": {
      "provenance": []
    },
    "kernelspec": {
      "name": "python3",
      "display_name": "Python 3"
    },
    "language_info": {
      "name": "python"
    }
  },
  "cells": [
    {
      "cell_type": "code",
      "execution_count": 72,
      "metadata": {
        "id": "ghj5ZgYhs7M_"
      },
      "outputs": [],
      "source": [
        "import pandas as pd\n",
        "import numpy as np\n",
        "import math\n",
        "from collections import Counter"
      ]
    },
    {
      "cell_type": "code",
      "source": [
        "df = pd.read_csv('exp2.csv', header = None)"
      ],
      "metadata": {
        "id": "i8YYOIwftaRq"
      },
      "execution_count": 73,
      "outputs": []
    },
    {
      "cell_type": "code",
      "source": [
        "len(df)"
      ],
      "metadata": {
        "colab": {
          "base_uri": "https://localhost:8080/"
        },
        "id": "XJGiMCOnu2aU",
        "outputId": "9af97ca5-1e3c-4e65-869e-cd34407fc989"
      },
      "execution_count": 74,
      "outputs": [
        {
          "output_type": "execute_result",
          "data": {
            "text/plain": [
              "50"
            ]
          },
          "metadata": {},
          "execution_count": 74
        }
      ]
    },
    {
      "cell_type": "code",
      "source": [
        "df.head()"
      ],
      "metadata": {
        "colab": {
          "base_uri": "https://localhost:8080/",
          "height": 206
        },
        "id": "ri4wGhz5tgWW",
        "outputId": "1d72eaed-e89f-4665-cc00-c41e926a4ef7"
      },
      "execution_count": 75,
      "outputs": [
        {
          "output_type": "execute_result",
          "data": {
            "text/plain": [
              "                                                   0\n",
              "0        Sastra University is located in Tamil Nadu.\n",
              "1  Students at Sastra University engage in rigoro...\n",
              "2  The university's main campus, Sastra Tanjore, ...\n",
              "3  Sastra University offers undergraduate and pos...\n",
              "4  Sastra University's commitment to quality educ..."
            ],
            "text/html": [
              "\n",
              "  <div id=\"df-7b784895-ba95-40fe-a65b-a4fb99fb6ff3\" class=\"colab-df-container\">\n",
              "    <div>\n",
              "<style scoped>\n",
              "    .dataframe tbody tr th:only-of-type {\n",
              "        vertical-align: middle;\n",
              "    }\n",
              "\n",
              "    .dataframe tbody tr th {\n",
              "        vertical-align: top;\n",
              "    }\n",
              "\n",
              "    .dataframe thead th {\n",
              "        text-align: right;\n",
              "    }\n",
              "</style>\n",
              "<table border=\"1\" class=\"dataframe\">\n",
              "  <thead>\n",
              "    <tr style=\"text-align: right;\">\n",
              "      <th></th>\n",
              "      <th>0</th>\n",
              "    </tr>\n",
              "  </thead>\n",
              "  <tbody>\n",
              "    <tr>\n",
              "      <th>0</th>\n",
              "      <td>Sastra University is located in Tamil Nadu.</td>\n",
              "    </tr>\n",
              "    <tr>\n",
              "      <th>1</th>\n",
              "      <td>Students at Sastra University engage in rigoro...</td>\n",
              "    </tr>\n",
              "    <tr>\n",
              "      <th>2</th>\n",
              "      <td>The university's main campus, Sastra Tanjore, ...</td>\n",
              "    </tr>\n",
              "    <tr>\n",
              "      <th>3</th>\n",
              "      <td>Sastra University offers undergraduate and pos...</td>\n",
              "    </tr>\n",
              "    <tr>\n",
              "      <th>4</th>\n",
              "      <td>Sastra University's commitment to quality educ...</td>\n",
              "    </tr>\n",
              "  </tbody>\n",
              "</table>\n",
              "</div>\n",
              "    <div class=\"colab-df-buttons\">\n",
              "\n",
              "  <div class=\"colab-df-container\">\n",
              "    <button class=\"colab-df-convert\" onclick=\"convertToInteractive('df-7b784895-ba95-40fe-a65b-a4fb99fb6ff3')\"\n",
              "            title=\"Convert this dataframe to an interactive table.\"\n",
              "            style=\"display:none;\">\n",
              "\n",
              "  <svg xmlns=\"http://www.w3.org/2000/svg\" height=\"24px\" viewBox=\"0 -960 960 960\">\n",
              "    <path d=\"M120-120v-720h720v720H120Zm60-500h600v-160H180v160Zm220 220h160v-160H400v160Zm0 220h160v-160H400v160ZM180-400h160v-160H180v160Zm440 0h160v-160H620v160ZM180-180h160v-160H180v160Zm440 0h160v-160H620v160Z\"/>\n",
              "  </svg>\n",
              "    </button>\n",
              "\n",
              "  <style>\n",
              "    .colab-df-container {\n",
              "      display:flex;\n",
              "      gap: 12px;\n",
              "    }\n",
              "\n",
              "    .colab-df-convert {\n",
              "      background-color: #E8F0FE;\n",
              "      border: none;\n",
              "      border-radius: 50%;\n",
              "      cursor: pointer;\n",
              "      display: none;\n",
              "      fill: #1967D2;\n",
              "      height: 32px;\n",
              "      padding: 0 0 0 0;\n",
              "      width: 32px;\n",
              "    }\n",
              "\n",
              "    .colab-df-convert:hover {\n",
              "      background-color: #E2EBFA;\n",
              "      box-shadow: 0px 1px 2px rgba(60, 64, 67, 0.3), 0px 1px 3px 1px rgba(60, 64, 67, 0.15);\n",
              "      fill: #174EA6;\n",
              "    }\n",
              "\n",
              "    .colab-df-buttons div {\n",
              "      margin-bottom: 4px;\n",
              "    }\n",
              "\n",
              "    [theme=dark] .colab-df-convert {\n",
              "      background-color: #3B4455;\n",
              "      fill: #D2E3FC;\n",
              "    }\n",
              "\n",
              "    [theme=dark] .colab-df-convert:hover {\n",
              "      background-color: #434B5C;\n",
              "      box-shadow: 0px 1px 3px 1px rgba(0, 0, 0, 0.15);\n",
              "      filter: drop-shadow(0px 1px 2px rgba(0, 0, 0, 0.3));\n",
              "      fill: #FFFFFF;\n",
              "    }\n",
              "  </style>\n",
              "\n",
              "    <script>\n",
              "      const buttonEl =\n",
              "        document.querySelector('#df-7b784895-ba95-40fe-a65b-a4fb99fb6ff3 button.colab-df-convert');\n",
              "      buttonEl.style.display =\n",
              "        google.colab.kernel.accessAllowed ? 'block' : 'none';\n",
              "\n",
              "      async function convertToInteractive(key) {\n",
              "        const element = document.querySelector('#df-7b784895-ba95-40fe-a65b-a4fb99fb6ff3');\n",
              "        const dataTable =\n",
              "          await google.colab.kernel.invokeFunction('convertToInteractive',\n",
              "                                                    [key], {});\n",
              "        if (!dataTable) return;\n",
              "\n",
              "        const docLinkHtml = 'Like what you see? Visit the ' +\n",
              "          '<a target=\"_blank\" href=https://colab.research.google.com/notebooks/data_table.ipynb>data table notebook</a>'\n",
              "          + ' to learn more about interactive tables.';\n",
              "        element.innerHTML = '';\n",
              "        dataTable['output_type'] = 'display_data';\n",
              "        await google.colab.output.renderOutput(dataTable, element);\n",
              "        const docLink = document.createElement('div');\n",
              "        docLink.innerHTML = docLinkHtml;\n",
              "        element.appendChild(docLink);\n",
              "      }\n",
              "    </script>\n",
              "  </div>\n",
              "\n",
              "\n",
              "<div id=\"df-181c2678-2cfe-4270-8771-3128d0c8fd88\">\n",
              "  <button class=\"colab-df-quickchart\" onclick=\"quickchart('df-181c2678-2cfe-4270-8771-3128d0c8fd88')\"\n",
              "            title=\"Suggest charts\"\n",
              "            style=\"display:none;\">\n",
              "\n",
              "<svg xmlns=\"http://www.w3.org/2000/svg\" height=\"24px\"viewBox=\"0 0 24 24\"\n",
              "     width=\"24px\">\n",
              "    <g>\n",
              "        <path d=\"M19 3H5c-1.1 0-2 .9-2 2v14c0 1.1.9 2 2 2h14c1.1 0 2-.9 2-2V5c0-1.1-.9-2-2-2zM9 17H7v-7h2v7zm4 0h-2V7h2v10zm4 0h-2v-4h2v4z\"/>\n",
              "    </g>\n",
              "</svg>\n",
              "  </button>\n",
              "\n",
              "<style>\n",
              "  .colab-df-quickchart {\n",
              "      --bg-color: #E8F0FE;\n",
              "      --fill-color: #1967D2;\n",
              "      --hover-bg-color: #E2EBFA;\n",
              "      --hover-fill-color: #174EA6;\n",
              "      --disabled-fill-color: #AAA;\n",
              "      --disabled-bg-color: #DDD;\n",
              "  }\n",
              "\n",
              "  [theme=dark] .colab-df-quickchart {\n",
              "      --bg-color: #3B4455;\n",
              "      --fill-color: #D2E3FC;\n",
              "      --hover-bg-color: #434B5C;\n",
              "      --hover-fill-color: #FFFFFF;\n",
              "      --disabled-bg-color: #3B4455;\n",
              "      --disabled-fill-color: #666;\n",
              "  }\n",
              "\n",
              "  .colab-df-quickchart {\n",
              "    background-color: var(--bg-color);\n",
              "    border: none;\n",
              "    border-radius: 50%;\n",
              "    cursor: pointer;\n",
              "    display: none;\n",
              "    fill: var(--fill-color);\n",
              "    height: 32px;\n",
              "    padding: 0;\n",
              "    width: 32px;\n",
              "  }\n",
              "\n",
              "  .colab-df-quickchart:hover {\n",
              "    background-color: var(--hover-bg-color);\n",
              "    box-shadow: 0 1px 2px rgba(60, 64, 67, 0.3), 0 1px 3px 1px rgba(60, 64, 67, 0.15);\n",
              "    fill: var(--button-hover-fill-color);\n",
              "  }\n",
              "\n",
              "  .colab-df-quickchart-complete:disabled,\n",
              "  .colab-df-quickchart-complete:disabled:hover {\n",
              "    background-color: var(--disabled-bg-color);\n",
              "    fill: var(--disabled-fill-color);\n",
              "    box-shadow: none;\n",
              "  }\n",
              "\n",
              "  .colab-df-spinner {\n",
              "    border: 2px solid var(--fill-color);\n",
              "    border-color: transparent;\n",
              "    border-bottom-color: var(--fill-color);\n",
              "    animation:\n",
              "      spin 1s steps(1) infinite;\n",
              "  }\n",
              "\n",
              "  @keyframes spin {\n",
              "    0% {\n",
              "      border-color: transparent;\n",
              "      border-bottom-color: var(--fill-color);\n",
              "      border-left-color: var(--fill-color);\n",
              "    }\n",
              "    20% {\n",
              "      border-color: transparent;\n",
              "      border-left-color: var(--fill-color);\n",
              "      border-top-color: var(--fill-color);\n",
              "    }\n",
              "    30% {\n",
              "      border-color: transparent;\n",
              "      border-left-color: var(--fill-color);\n",
              "      border-top-color: var(--fill-color);\n",
              "      border-right-color: var(--fill-color);\n",
              "    }\n",
              "    40% {\n",
              "      border-color: transparent;\n",
              "      border-right-color: var(--fill-color);\n",
              "      border-top-color: var(--fill-color);\n",
              "    }\n",
              "    60% {\n",
              "      border-color: transparent;\n",
              "      border-right-color: var(--fill-color);\n",
              "    }\n",
              "    80% {\n",
              "      border-color: transparent;\n",
              "      border-right-color: var(--fill-color);\n",
              "      border-bottom-color: var(--fill-color);\n",
              "    }\n",
              "    90% {\n",
              "      border-color: transparent;\n",
              "      border-bottom-color: var(--fill-color);\n",
              "    }\n",
              "  }\n",
              "</style>\n",
              "\n",
              "  <script>\n",
              "    async function quickchart(key) {\n",
              "      const quickchartButtonEl =\n",
              "        document.querySelector('#' + key + ' button');\n",
              "      quickchartButtonEl.disabled = true;  // To prevent multiple clicks.\n",
              "      quickchartButtonEl.classList.add('colab-df-spinner');\n",
              "      try {\n",
              "        const charts = await google.colab.kernel.invokeFunction(\n",
              "            'suggestCharts', [key], {});\n",
              "      } catch (error) {\n",
              "        console.error('Error during call to suggestCharts:', error);\n",
              "      }\n",
              "      quickchartButtonEl.classList.remove('colab-df-spinner');\n",
              "      quickchartButtonEl.classList.add('colab-df-quickchart-complete');\n",
              "    }\n",
              "    (() => {\n",
              "      let quickchartButtonEl =\n",
              "        document.querySelector('#df-181c2678-2cfe-4270-8771-3128d0c8fd88 button');\n",
              "      quickchartButtonEl.style.display =\n",
              "        google.colab.kernel.accessAllowed ? 'block' : 'none';\n",
              "    })();\n",
              "  </script>\n",
              "</div>\n",
              "\n",
              "    </div>\n",
              "  </div>\n"
            ],
            "application/vnd.google.colaboratory.intrinsic+json": {
              "type": "dataframe",
              "variable_name": "df",
              "summary": "{\n  \"name\": \"df\",\n  \"rows\": 50,\n  \"fields\": [\n    {\n      \"column\": 0,\n      \"properties\": {\n        \"dtype\": \"string\",\n        \"num_unique_values\": 50,\n        \"samples\": [\n          \" The campus life at Sastra University is vibrant and diverse.\",\n          \"The university's strategic partnerships enhance its global reach.\",\n          \"Sastra University's alumni make significant contributions to various industries.\"\n        ],\n        \"semantic_type\": \"\",\n        \"description\": \"\"\n      }\n    }\n  ]\n}"
            }
          },
          "metadata": {},
          "execution_count": 75
        }
      ]
    },
    {
      "cell_type": "code",
      "source": [
        "Sentences = df[0].values"
      ],
      "metadata": {
        "id": "a1KpFW6Ythha"
      },
      "execution_count": 76,
      "outputs": []
    },
    {
      "cell_type": "code",
      "source": [
        "Sentences[:5]"
      ],
      "metadata": {
        "colab": {
          "base_uri": "https://localhost:8080/"
        },
        "id": "FeNAuarKtska",
        "outputId": "a27c64a7-db94-484f-e1ab-93302e4d5a3b"
      },
      "execution_count": 77,
      "outputs": [
        {
          "output_type": "execute_result",
          "data": {
            "text/plain": [
              "array(['Sastra University is located in Tamil Nadu.',\n",
              "       'Students at Sastra University engage in rigorous academic pursuits.',\n",
              "       \"The university's main campus, Sastra Tanjore, is known for its scenic beauty.\",\n",
              "       'Sastra University offers undergraduate and postgraduate programs in diverse disciplines.',\n",
              "       \"Sastra University's commitment to quality education is evident in its faculty.\"],\n",
              "      dtype=object)"
            ]
          },
          "metadata": {},
          "execution_count": 77
        }
      ]
    },
    {
      "cell_type": "code",
      "source": [
        "unigram = Counter()\n",
        "bigrams = Counter()\n"
      ],
      "metadata": {
        "id": "1GmjDxfKt_Jl"
      },
      "execution_count": 78,
      "outputs": []
    },
    {
      "cell_type": "code",
      "source": [
        "for sent in Sentences:\n",
        "  tokens = sent.lower().split()\n",
        "  unigram.update(tokens)\n",
        "  for i in range(len(tokens)-1):\n",
        "    bigram = (tokens[i],tokens[i+1])\n",
        "    bigrams[bigram] += 1\n",
        "\n",
        "print(unigram)\n",
        "print(bigrams)"
      ],
      "metadata": {
        "colab": {
          "base_uri": "https://localhost:8080/"
        },
        "id": "Zm3l4NAKtt48",
        "outputId": "82266cae-0821-4008-977b-1ba9c044c5e5"
      },
      "execution_count": 79,
      "outputs": [
        {
          "output_type": "stream",
          "name": "stdout",
          "text": [
            "Counter({'sastra': 33, 'the': 26, \"university's\": 26, 'university': 24, 'is': 20, 'to': 16, 'in': 13, 'its': 12, 'and': 12, 'a': 10, 'of': 9, 'for': 8, 'at': 7, 'academic': 5, 'commitment': 5, 'student': 5, 'development.': 4, 'campus': 4, 'on': 4, 'students': 3, 'evident': 3, 'alumni': 3, 'with': 3, 'research': 3, 'learning': 3, 'annual': 3, 'known': 2, 'diverse': 2, 'education': 2, 'extends': 2, 'national': 2, 'approach': 2, 'programs.': 2, 'global': 2, 'industry': 2, 'enhance': 2, 'learning.': 2, 'department': 2, 'highly': 2, 'has': 2, 'conducive': 2, 'environment.': 2, 'promotes': 2, 'community': 2, 'emphasis': 2, 'leadership': 2, 'dedicated': 2, 'encourages': 2, 'international': 2, 'actively': 2, 'engages': 2, 'skill': 2, 'admission': 2, 'initiatives.': 2, 'located': 1, 'tamil': 1, 'nadu.': 1, 'engage': 1, 'rigorous': 1, 'pursuits.': 1, 'main': 1, 'campus,': 1, 'tanjore,': 1, 'scenic': 1, 'beauty.': 1, 'offers': 1, 'undergraduate': 1, 'postgraduate': 1, 'programs': 1, 'disciplines.': 1, 'quality': 1, 'faculty.': 1, 'reputation': 1, 'excellence': 1, 'beyond': 1, 'borders.': 1, 'emphasizes': 1, 'holistic': 1, 'many': 1, 'aspiring': 1, 'engineers': 1, 'choose': 1, 'stellar': 1, 'engineering': 1, 'network': 1, 'valuable': 1, 'resource': 1, 'graduates.': 1, 'vision': 1, 'be': 1, 'leader': 1, 'research.': 1, 'collaborates': 1, 'leaders': 1, 'practical': 1, 'computer': 1, 'science': 1, 'regarded.': 1, 'been': 1, 'consistently': 1, 'ranked': 1, 'among': 1, 'top': 1, 'universities': 1, 'india.': 1, 'life': 1, 'vibrant': 1, 'diverse.': 1, 'well-equipped': 1, 'labs.': 1, 'provides': 1, 'cultural': 1, 'fest': 1, 'showcases': 1, 'talents': 1, 'students.': 1, 'library': 1, 'hub': 1, 'knowledge': 1, 'resources.': 1, 'motto,': 1, '\"knowledge': 1, 'power,\"': 1, 'reflects': 1, 'educational': 1, 'philosophy.': 1, 'involvement': 1, 'service.': 1, 'stands': 1, 'out': 1, 'innovation': 1, 'creativity.': 1, 'fostering': 1, 'excellence.': 1, 'participate': 1, 'exchange': 1, 'business': 1, 'administration': 1, 'renowned.': 1, 'corporate': 1, 'collaborations': 1, 'social': 1, 'responsibility': 1, 'commendable.': 1, 'infrastructure': 1, 'facilitates': 1, 'atmosphere.': 1, 'process': 1, 'competitive.': 1, 'comprehensive': 1, 'career': 1, 'faculty': 1, 'composed': 1, 'experienced': 1, 'educators.': 1, 'make': 1, 'significant': 1, 'contributions': 1, 'various': 1, 'industries.': 1, 'sustainable': 1, 'practices': 1, 'reflected': 1, 'organizes': 1, 'seminars': 1, 'conferences': 1, 'foster': 1, 'discourse.': 1, 'sports': 1, 'facilities': 1, 'cater': 1, 'wide': 1, 'range': 1, 'athletic': 1, 'interests.': 1, 'focus': 1, 'interdisciplinary': 1, 'collaborations.': 1, 'convocation': 1, 'ceremony': 1, 'momentous': 1, 'event': 1, 'sastra.': 1, 'prides': 1, 'itself': 1, 'strong': 1, 'scholars.': 1, 'an': 1, 'inclusive': 1, 'ethics': 1, 'values': 1, 'sets': 1, 'it': 1, 'apart.': 1, 'strategic': 1, 'partnerships': 1, 'reach.': 1, 'excel': 1, 'both': 1, 'arenas.': 1, 'welfare': 1, 'support': 1, 'services.': 1, 'culture': 1, 'continuous': 1, 'criteria': 1, 'are': 1, 'transparent': 1, 'merit-based.': 1, 'experts': 1, 'curriculum': 1, 'centers': 1, 'address': 1, 'contemporary': 1, 'challenges.': 1, 'eco-friendly': 1, 'calendar': 1, 'well-structured': 1, 'organized.': 1, 'technical': 1, 'symposium': 1, 'attracts': 1, 'participants': 1, 'from': 1, 'across': 1, 'country.': 1, 'efforts': 1, 'towards': 1, 'development': 1, 'contribute': 1, 'employability.': 1})\n",
            "Counter({('sastra', 'university'): 24, ('the', \"university's\"): 18, ('sastra', \"university's\"): 8, ('university', 'is'): 6, ('at', 'sastra'): 6, (\"university's\", 'commitment'): 5, ('commitment', 'to'): 5, ('for', 'its'): 4, ('in', 'its'): 4, ('to', 'student'): 4, ('is', 'evident'): 3, ('evident', 'in'): 3, ('is', 'a'): 3, ('is', 'known'): 2, ('known', 'for'): 2, ('approach', 'to'): 2, ('with', 'industry'): 2, ('department', 'of'): 2, ('is', 'highly'): 2, ('university', 'has'): 2, ('a', 'conducive'): 2, ('conducive', 'learning'): 2, ('learning', 'environment.'): 2, ('university', 'promotes'): 2, ('emphasis', 'on'): 2, (\"university's\", 'leadership'): 2, ('university', 'actively'): 2, ('actively', 'engages'): 2, (\"university's\", 'campus'): 2, (\"university's\", 'admission'): 2, (\"university's\", 'annual'): 2, ('is', 'located'): 1, ('located', 'in'): 1, ('in', 'tamil'): 1, ('tamil', 'nadu.'): 1, ('students', 'at'): 1, ('university', 'engage'): 1, ('engage', 'in'): 1, ('in', 'rigorous'): 1, ('rigorous', 'academic'): 1, ('academic', 'pursuits.'): 1, (\"university's\", 'main'): 1, ('main', 'campus,'): 1, ('campus,', 'sastra'): 1, ('sastra', 'tanjore,'): 1, ('tanjore,', 'is'): 1, ('its', 'scenic'): 1, ('scenic', 'beauty.'): 1, ('university', 'offers'): 1, ('offers', 'undergraduate'): 1, ('undergraduate', 'and'): 1, ('and', 'postgraduate'): 1, ('postgraduate', 'programs'): 1, ('programs', 'in'): 1, ('in', 'diverse'): 1, ('diverse', 'disciplines.'): 1, ('to', 'quality'): 1, ('quality', 'education'): 1, ('education', 'is'): 1, ('its', 'faculty.'): 1, (\"university's\", 'reputation'): 1, ('reputation', 'for'): 1, ('for', 'excellence'): 1, ('excellence', 'extends'): 1, ('extends', 'beyond'): 1, ('beyond', 'national'): 1, ('national', 'borders.'): 1, ('university', 'emphasizes'): 1, ('emphasizes', 'a'): 1, ('a', 'holistic'): 1, ('holistic', 'approach'): 1, ('student', 'development.'): 1, ('many', 'aspiring'): 1, ('aspiring', 'engineers'): 1, ('engineers', 'choose'): 1, ('choose', 'sastra'): 1, ('university', 'for'): 1, ('its', 'stellar'): 1, ('stellar', 'engineering'): 1, ('engineering', 'programs.'): 1, ('the', 'alumni'): 1, ('alumni', 'network'): 1, ('network', 'of'): 1, ('of', 'sastra'): 1, ('a', 'valuable'): 1, ('valuable', 'resource'): 1, ('resource', 'for'): 1, ('for', 'graduates.'): 1, (\"university's\", 'vision'): 1, ('vision', 'is'): 1, ('is', 'to'): 1, ('to', 'be'): 1, ('be', 'a'): 1, ('a', 'global'): 1, ('global', 'leader'): 1, ('leader', 'in'): 1, ('in', 'education'): 1, ('education', 'and'): 1, ('and', 'research.'): 1, ('university', 'collaborates'): 1, ('collaborates', 'with'): 1, ('industry', 'leaders'): 1, ('leaders', 'to'): 1, ('to', 'enhance'): 1, ('enhance', 'practical'): 1, ('practical', 'learning.'): 1, ('the', 'department'): 1, ('of', 'computer'): 1, ('computer', 'science'): 1, ('science', 'at'): 1, ('highly', 'regarded.'): 1, ('has', 'been'): 1, ('been', 'consistently'): 1, ('consistently', 'ranked'): 1, ('ranked', 'among'): 1, ('among', 'the'): 1, ('the', 'top'): 1, ('top', 'universities'): 1, ('universities', 'in'): 1, ('in', 'india.'): 1, ('the', 'campus'): 1, ('campus', 'life'): 1, ('life', 'at'): 1, ('is', 'vibrant'): 1, ('vibrant', 'and'): 1, ('and', 'diverse.'): 1, ('to', 'research'): 1, ('research', 'is'): 1, ('its', 'well-equipped'): 1, ('well-equipped', 'labs.'): 1, ('university', 'provides'): 1, ('provides', 'students'): 1, ('students', 'with'): 1, ('with', 'a'): 1, ('the', 'annual'): 1, ('annual', 'cultural'): 1, ('cultural', 'fest'): 1, ('fest', 'at'): 1, ('university', 'showcases'): 1, ('showcases', 'the'): 1, ('the', 'talents'): 1, ('talents', 'of'): 1, ('of', 'its'): 1, ('its', 'students.'): 1, (\"university's\", 'library'): 1, ('library', 'is'): 1, ('a', 'hub'): 1, ('hub', 'of'): 1, ('of', 'knowledge'): 1, ('knowledge', 'and'): 1, ('and', 'academic'): 1, ('academic', 'resources.'): 1, (\"university's\", 'motto,'): 1, ('motto,', '\"knowledge'): 1, ('\"knowledge', 'is'): 1, ('is', 'power,\"'): 1, ('power,\"', 'reflects'): 1, ('reflects', 'its'): 1, ('its', 'educational'): 1, ('educational', 'philosophy.'): 1, ('promotes', 'student'): 1, ('student', 'involvement'): 1, ('involvement', 'in'): 1, ('in', 'community'): 1, ('community', 'service.'): 1, ('university', 'stands'): 1, ('stands', 'out'): 1, ('out', 'for'): 1, ('its', 'emphasis'): 1, ('on', 'innovation'): 1, ('innovation', 'and'): 1, ('and', 'creativity.'): 1, ('leadership', 'is'): 1, ('is', 'dedicated'): 1, ('dedicated', 'to'): 1, ('to', 'fostering'): 1, ('fostering', 'academic'): 1, ('academic', 'excellence.'): 1, ('university', 'encourages'): 1, ('encourages', 'students'): 1, ('students', 'to'): 1, ('to', 'participate'): 1, ('participate', 'in'): 1, ('in', 'international'): 1, ('international', 'exchange'): 1, ('exchange', 'programs.'): 1, ('of', 'business'): 1, ('business', 'administration'): 1, ('administration', 'at'): 1, ('is', 'renowned.'): 1, ('engages', 'in'): 1, ('in', 'corporate'): 1, ('corporate', 'collaborations'): 1, ('collaborations', 'for'): 1, ('for', 'skill'): 1, ('skill', 'development.'): 1, ('to', 'social'): 1, ('social', 'responsibility'): 1, ('responsibility', 'is'): 1, ('is', 'commendable.'): 1, ('campus', 'infrastructure'): 1, ('infrastructure', 'facilitates'): 1, ('facilitates', 'a'): 1, ('learning', 'atmosphere.'): 1, ('admission', 'process'): 1, ('process', 'is'): 1, ('highly', 'competitive.'): 1, ('has', 'a'): 1, ('a', 'comprehensive'): 1, ('comprehensive', 'approach'): 1, ('student', 'career'): 1, ('career', 'development.'): 1, ('the', 'faculty'): 1, ('faculty', 'at'): 1, ('is', 'composed'): 1, ('composed', 'of'): 1, ('of', 'experienced'): 1, ('experienced', 'and'): 1, ('and', 'dedicated'): 1, ('dedicated', 'educators.'): 1, (\"university's\", 'alumni'): 1, ('alumni', 'make'): 1, ('make', 'significant'): 1, ('significant', 'contributions'): 1, ('contributions', 'to'): 1, ('to', 'various'): 1, ('various', 'industries.'): 1, ('to', 'sustainable'): 1, ('sustainable', 'practices'): 1, ('practices', 'is'): 1, ('is', 'reflected'): 1, ('reflected', 'in'): 1, ('its', 'campus'): 1, ('campus', 'initiatives.'): 1, ('university', 'organizes'): 1, ('organizes', 'seminars'): 1, ('seminars', 'and'): 1, ('and', 'conferences'): 1, ('conferences', 'to'): 1, ('to', 'foster'): 1, ('foster', 'academic'): 1, ('academic', 'discourse.'): 1, (\"university's\", 'sports'): 1, ('sports', 'facilities'): 1, ('facilities', 'cater'): 1, ('cater', 'to'): 1, ('to', 'a'): 1, ('a', 'wide'): 1, ('wide', 'range'): 1, ('range', 'of'): 1, ('of', 'athletic'): 1, ('athletic', 'interests.'): 1, (\"university's\", 'focus'): 1, ('focus', 'on'): 1, ('on', 'research'): 1, ('research', 'extends'): 1, ('extends', 'to'): 1, ('to', 'interdisciplinary'): 1, ('interdisciplinary', 'collaborations.'): 1, ('annual', 'convocation'): 1, ('convocation', 'ceremony'): 1, ('ceremony', 'is'): 1, ('a', 'momentous'): 1, ('momentous', 'event'): 1, ('event', 'at'): 1, ('at', 'sastra.'): 1, ('university', 'prides'): 1, ('prides', 'itself'): 1, ('itself', 'on'): 1, ('on', 'its'): 1, ('its', 'strong'): 1, ('strong', 'community'): 1, ('community', 'of'): 1, ('of', 'scholars.'): 1, ('leadership', 'encourages'): 1, ('encourages', 'an'): 1, ('an', 'inclusive'): 1, ('inclusive', 'and'): 1, ('and', 'diverse'): 1, ('diverse', 'learning'): 1, (\"university's\", 'emphasis'): 1, ('on', 'ethics'): 1, ('ethics', 'and'): 1, ('and', 'values'): 1, ('values', 'sets'): 1, ('sets', 'it'): 1, ('it', 'apart.'): 1, (\"university's\", 'strategic'): 1, ('strategic', 'partnerships'): 1, ('partnerships', 'enhance'): 1, ('enhance', 'its'): 1, ('its', 'global'): 1, ('global', 'reach.'): 1, ('university', 'alumni'): 1, ('alumni', 'excel'): 1, ('excel', 'in'): 1, ('in', 'both'): 1, ('both', 'national'): 1, ('national', 'and'): 1, ('and', 'international'): 1, ('international', 'arenas.'): 1, ('student', 'welfare'): 1, ('welfare', 'is'): 1, ('its', 'support'): 1, ('support', 'services.'): 1, ('promotes', 'a'): 1, ('a', 'culture'): 1, ('culture', 'of'): 1, ('of', 'continuous'): 1, ('continuous', 'learning.'): 1, ('admission', 'criteria'): 1, ('criteria', 'are'): 1, ('are', 'transparent'): 1, ('transparent', 'and'): 1, ('and', 'merit-based.'): 1, ('engages', 'with'): 1, ('industry', 'experts'): 1, ('experts', 'for'): 1, ('for', 'curriculum'): 1, ('curriculum', 'development.'): 1, (\"university's\", 'research'): 1, ('research', 'centers'): 1, ('centers', 'address'): 1, ('address', 'contemporary'): 1, ('contemporary', 'challenges.'): 1, ('campus', 'is'): 1, ('its', 'eco-friendly'): 1, ('eco-friendly', 'initiatives.'): 1, (\"university's\", 'academic'): 1, ('academic', 'calendar'): 1, ('calendar', 'is'): 1, ('is', 'well-structured'): 1, ('well-structured', 'and'): 1, ('and', 'organized.'): 1, ('annual', 'technical'): 1, ('technical', 'symposium'): 1, ('symposium', 'attracts'): 1, ('attracts', 'participants'): 1, ('participants', 'from'): 1, ('from', 'across'): 1, ('across', 'the'): 1, ('the', 'country.'): 1, (\"university's\", 'efforts'): 1, ('efforts', 'towards'): 1, ('towards', 'skill'): 1, ('skill', 'development'): 1, ('development', 'contribute'): 1, ('contribute', 'to'): 1, ('student', 'employability.'): 1})\n"
          ]
        }
      ]
    },
    {
      "cell_type": "code",
      "source": [
        "word1 = 'Sastra'.lower()\n",
        "word2 = 'University'.lower()"
      ],
      "metadata": {
        "id": "gH3XDGmUuemO"
      },
      "execution_count": 90,
      "outputs": []
    },
    {
      "cell_type": "code",
      "source": [
        "N = sum(unigram.values())"
      ],
      "metadata": {
        "id": "zG9EkCFUvVk-"
      },
      "execution_count": 91,
      "outputs": []
    },
    {
      "cell_type": "code",
      "source": [
        "N"
      ],
      "metadata": {
        "colab": {
          "base_uri": "https://localhost:8080/"
        },
        "id": "18dBbzF-wMfO",
        "outputId": "b15f3276-1836-4e1a-e1fd-80d21727dced"
      },
      "execution_count": 92,
      "outputs": [
        {
          "output_type": "execute_result",
          "data": {
            "text/plain": [
              "497"
            ]
          },
          "metadata": {},
          "execution_count": 92
        }
      ]
    },
    {
      "cell_type": "code",
      "source": [
        "cw1 = unigram[word1]\n",
        "cw2 = unigram[word2]\n",
        "expected = cw1*cw2/N**2\n",
        "variance = expected\n",
        "observed = bigrams[(word1,word2)]/N\n",
        "t = (observed - expected)/math.sqrt(variance/N)\n",
        "t"
      ],
      "metadata": {
        "colab": {
          "base_uri": "https://localhost:8080/"
        },
        "id": "wMh10ALUwPPR",
        "outputId": "0019e148-f821-40d1-b198-716ac6598750"
      },
      "execution_count": 93,
      "outputs": [
        {
          "output_type": "execute_result",
          "data": {
            "text/plain": [
              "17.749594553756843"
            ]
          },
          "metadata": {},
          "execution_count": 93
        }
      ]
    },
    {
      "cell_type": "code",
      "source": [
        "c11 = c12 = c21 = c22 = 0\n",
        "for unit in bigrams:\n",
        "  if unit[0] == word1 and unit[1] == word2:\n",
        "    c11 += 1\n",
        "  if unit[0] == word1 and unit[1] != word2:\n",
        "    c12 += 1\n",
        "  if unit[0] != word1 and unit[1] == word2:\n",
        "    c21 += 1\n",
        "  if unit[0] != word1 and unit[1] != word2:\n",
        "    c22 += 1\n",
        "\n",
        "t13 = c11 + c12\n",
        "t23 = c21 + c22\n",
        "t31 = c11 + c21\n",
        "t32 = c12 + c22\n",
        "tot = t31 + t32\n",
        "\n",
        "e11 = t13*t31/tot\n",
        "e12 = t13*t32/tot\n",
        "e21 = t23*t31/tot\n",
        "e22 = t23*t32/tot\n"
      ],
      "metadata": {
        "id": "rO_OnkHSw4jh"
      },
      "execution_count": 94,
      "outputs": []
    },
    {
      "cell_type": "code",
      "source": [
        "obs = [c11, c12, c21, c22]\n",
        "exp = [e11, e12, e21, e22]\n",
        "\n",
        "chi2 = 0\n",
        "\n",
        "for i in range(4):\n",
        "  chi2 += (obs[i]-exp[i])**2/exp[i]\n",
        "\n",
        "print(chi2)"
      ],
      "metadata": {
        "colab": {
          "base_uri": "https://localhost:8080/"
        },
        "id": "cv8-oa_vyG6h",
        "outputId": "7ec7a64e-f3dd-47bc-a5a2-98aefcbd17f0"
      },
      "execution_count": 95,
      "outputs": [
        {
          "output_type": "stream",
          "name": "stdout",
          "text": [
            "115.6647509578544\n"
          ]
        }
      ]
    },
    {
      "cell_type": "code",
      "source": [],
      "metadata": {
        "id": "xJbEnNbE0mZO"
      },
      "execution_count": null,
      "outputs": []
    }
  ]
}