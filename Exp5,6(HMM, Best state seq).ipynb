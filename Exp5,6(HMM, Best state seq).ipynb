{
  "nbformat": 4,
  "nbformat_minor": 0,
  "metadata": {
    "colab": {
      "provenance": []
    },
    "kernelspec": {
      "name": "python3",
      "display_name": "Python 3"
    },
    "language_info": {
      "name": "python"
    }
  },
  "cells": [
    {
      "cell_type": "code",
      "source": [
        "import numpy as np"
      ],
      "metadata": {
        "id": "KZDnbV-T_gtl"
      },
      "execution_count": 2,
      "outputs": []
    },
    {
      "cell_type": "code",
      "execution_count": 1,
      "metadata": {
        "id": "7he9ZUJ2-U6O"
      },
      "outputs": [],
      "source": [
        "Tp = {\n",
        "    'Sunny': {'Sunny': 0.7, 'Rainy': 0.3},  # Probabilities from Sunny\n",
        "    'Rainy': {'Sunny': 0.5, 'Rainy': 0.5}   # Probabilities from Rainy\n",
        "}\n",
        "\n",
        "Ep = {\n",
        "    'Sunny': {'Walk': 0.6, 'Shop': 0.1, 'Clean': 0.3},  # Probabilities of observations from Sunny\n",
        "    'Rainy': {'Walk': 0.1, 'Shop': 0.7, 'Clean': 0.2}   # Probabilities of observations from Rainy\n",
        "}\n",
        "\n",
        "observations = ['Clean', 'Shop','Walk']\n",
        "\n",
        "Initial_prob = [1, 0]"
      ]
    },
    {
      "cell_type": "code",
      "source": [
        "#FORWARD PROCEDURE\n",
        "\n",
        "alpha = np.zeros((len(Tp), len(observations)+1))\n",
        "alpha[:,0] = Initial_prob\n",
        "\n",
        "for i in range(1, len(observations)+1):\n",
        "  alpha[0][i] = alpha[0][i-1]*Tp['Sunny']['Sunny']*Ep['Sunny'][observations[i-1]] + alpha[1][i-1]*Tp['Rainy']['Sunny']*Ep['Rainy'][observations[i-1]]\n",
        "  alpha[1][i] = alpha[1][i-1]*Tp['Rainy']['Rainy']*Ep['Rainy'][observations[i-1]] + alpha[0][i-1]*Tp['Sunny']['Rainy']*Ep['Sunny'][observations[i-1]]\n",
        "\n",
        "alpha"
      ],
      "metadata": {
        "colab": {
          "base_uri": "https://localhost:8080/"
        },
        "id": "9Yb3Y-qK-9gn",
        "outputId": "a084ed61-935e-4bc2-861a-5e9be3fb8b4d"
      },
      "execution_count": 7,
      "outputs": [
        {
          "output_type": "execute_result",
          "data": {
            "text/plain": [
              "array([[1.      , 0.21    , 0.0462  , 0.021294],\n",
              "       [0.      , 0.09    , 0.0378  , 0.010206]])"
            ]
          },
          "metadata": {},
          "execution_count": 7
        }
      ]
    },
    {
      "cell_type": "code",
      "source": [
        "#BACKWARD PROCEDURE\n",
        "\n",
        "beta = np.zeros((len(Tp), len(observations)+1))\n",
        "beta[:,len(observations)] = [1,1]\n",
        "\n",
        "for i in range(len(observations)-1, -1, -1):\n",
        "  beta[0][i] = beta[0][i+1]*Tp['Sunny']['Sunny']*Ep['Sunny'][observations[i]] + beta[1][i+1]*Tp['Sunny']['Rainy']*Ep['Sunny'][observations[i]]\n",
        "  beta[1][i] = beta[1][i+1]*Tp['Rainy']['Rainy']*Ep['Rainy'][observations[i]] + beta[0][i+1]*Tp['Rainy']['Sunny']*Ep['Rainy'][observations[i]]\n",
        "\n",
        "beta"
      ],
      "metadata": {
        "colab": {
          "base_uri": "https://localhost:8080/"
        },
        "id": "Z-divjuJ_9YQ",
        "outputId": "da786f61-ec2a-45fa-e916-596b3dbcaa16"
      },
      "execution_count": 10,
      "outputs": [
        {
          "output_type": "execute_result",
          "data": {
            "text/plain": [
              "array([[0.0315, 0.045 , 0.6   , 1.    ],\n",
              "       [0.029 , 0.245 , 0.1   , 1.    ]])"
            ]
          },
          "metadata": {},
          "execution_count": 10
        }
      ]
    },
    {
      "cell_type": "code",
      "source": [
        "#VITERBI\n",
        "\n",
        "delta = np.zeros((len(Tp), len(observations)+1))\n",
        "delta[:,0] = Initial_prob\n",
        "Best_state1 = []\n",
        "Best_state2 = []\n",
        "\n",
        "for i in range(1, len(observations)+1):\n",
        "  s_s = delta[0][i-1]*Tp['Sunny']['Sunny']*Ep['Sunny'][observations[i-1]]\n",
        "  r_s = delta[1][i-1]*Tp['Rainy']['Sunny']*Ep['Rainy'][observations[i-1]]\n",
        "  Best_state1.append(\"Sunny\" if s_s>= r_s else \"Rainy\")\n",
        "  delta[0][i] = max(s_s , r_s)\n",
        "  r_r = delta[1][i-1]*Tp['Rainy']['Rainy']*Ep['Rainy'][observations[i-1]]\n",
        "  s_r = delta[0][i-1]*Tp['Sunny']['Rainy']*Ep['Sunny'][observations[i-1]]\n",
        "  Best_state2.append(\"Rainy\" if r_r>= s_r else \"Sunny\")\n",
        "  delta[1][i] = max(r_r , s_r)\n",
        "\n",
        "Best_state_sequence = [Best_state1,Best_state2]\n",
        "delta"
      ],
      "metadata": {
        "colab": {
          "base_uri": "https://localhost:8080/"
        },
        "id": "QdxTCGCnCKor",
        "outputId": "11379319-40bd-409e-bb72-a5e1db233012"
      },
      "execution_count": 13,
      "outputs": [
        {
          "output_type": "execute_result",
          "data": {
            "text/plain": [
              "array([[1.     , 0.21   , 0.0315 , 0.01323],\n",
              "       [0.     , 0.09   , 0.0315 , 0.00567]])"
            ]
          },
          "metadata": {},
          "execution_count": 13
        }
      ]
    },
    {
      "cell_type": "code",
      "source": [
        "print(Best_state_sequence)"
      ],
      "metadata": {
        "colab": {
          "base_uri": "https://localhost:8080/"
        },
        "id": "vndIXG8aG2sJ",
        "outputId": "e6ace3e8-9b61-4ff0-a051-4a90e58ec838"
      },
      "execution_count": 14,
      "outputs": [
        {
          "output_type": "stream",
          "name": "stdout",
          "text": [
            "[['Sunny', 'Rainy', 'Sunny'], ['Sunny', 'Rainy', 'Sunny']]\n"
          ]
        }
      ]
    },
    {
      "cell_type": "code",
      "source": [],
      "metadata": {
        "id": "DZLtHKUBG748"
      },
      "execution_count": null,
      "outputs": []
    }
  ]
}