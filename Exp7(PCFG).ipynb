{
  "nbformat": 4,
  "nbformat_minor": 0,
  "metadata": {
    "colab": {
      "provenance": []
    },
    "kernelspec": {
      "name": "python3",
      "display_name": "Python 3"
    },
    "language_info": {
      "name": "python"
    }
  },
  "cells": [
    {
      "cell_type": "code",
      "execution_count": 1,
      "metadata": {
        "id": "yghqmIw5cxVW"
      },
      "outputs": [],
      "source": [
        "from nltk import PCFG, ViterbiParser, InsideChartParser"
      ]
    },
    {
      "cell_type": "code",
      "source": [
        "grammer = PCFG.fromstring(\"\"\"\n",
        "S -> NP VP [1.0]\n",
        "VP -> V NP [0.7] | VP PP [0.3]\n",
        "NP -> Det N [0.5] | NP PP [0.2] | 'John' [0.3]\n",
        "PP -> P NP [1.0]\n",
        "V -> 'saw' [0.2] | 'ate' [0.8]\n",
        "Det -> 'the' [0.6] | 'a' [0.4]\n",
        "N -> 'man' [0.5] | 'telescope' [0.5]\n",
        "P -> 'with' [0.4] | 'in' [0.6]\n",
        "\"\"\")\n",
        "\n",
        "parser1 = ViterbiParser(grammer)\n",
        "parser2 = InsideChartParser(grammer)\n",
        "\n",
        "sentence = \"John saw a man with a telescope\"\n",
        "tokens = sentence.split()\n",
        "\n",
        "for tree in parser1.parse(tokens):\n",
        "  print(tree)\n",
        "\n",
        "for tree in parser2.parse(tokens):\n",
        "  print(tree)"
      ],
      "metadata": {
        "colab": {
          "base_uri": "https://localhost:8080/"
        },
        "id": "l2U5W5cudnZy",
        "outputId": "a4b8aa5e-b43f-4a34-e82a-d8ffb84b1303"
      },
      "execution_count": 6,
      "outputs": [
        {
          "output_type": "stream",
          "name": "stdout",
          "text": [
            "(S\n",
            "  (NP John)\n",
            "  (VP\n",
            "    (VP (V saw) (NP (Det a) (N man)))\n",
            "    (PP (P with) (NP (Det a) (N telescope))))) (p=5.04e-05)\n",
            "(S\n",
            "  (NP John)\n",
            "  (VP\n",
            "    (VP (V saw) (NP (Det a) (N man)))\n",
            "    (PP (P with) (NP (Det a) (N telescope))))) (p=5.04e-05)\n",
            "(S\n",
            "  (NP John)\n",
            "  (VP\n",
            "    (V saw)\n",
            "    (NP\n",
            "      (NP (Det a) (N man))\n",
            "      (PP (P with) (NP (Det a) (N telescope)))))) (p=3.36e-05)\n"
          ]
        }
      ]
    },
    {
      "cell_type": "code",
      "source": [
        "import numpy as np"
      ],
      "metadata": {
        "id": "ESqBSbsMetCT"
      },
      "execution_count": 7,
      "outputs": []
    },
    {
      "cell_type": "code",
      "source": [
        "def cyk_parse(grammar, sentence):\n",
        "    n= len(sentence)\n",
        "    table =np.empty((n, n), dtype=object)\n",
        "    for i, word in enumerate(sentence):\n",
        "        table[i, i] = [(p.lhs(), p.prob()) for p in grammar.productions() if len(p.rhs()) == 1 and p.rhs()[0] == word]\n",
        "    for span in range(2, n + 1):\n",
        "        for i in range(n - span + 1):\n",
        "            table[i, i + span - 1] = [(p.lhs(), lp * rp * p.prob()) for k in range(i, i + span - 1)\n",
        "                for l, lp in (table[i, k] or []) for r, rp in (table[k + 1, i + span - 1] or [])\n",
        "                for p in grammar.productions() if len(p.rhs()) == 2 and (l, r) == p.rhs()]\n",
        "    return table\n",
        "def check_sentence(sentence, grammar):\n",
        "    words, results = sentence.split(), cyk_parse(grammar, sentence.split())[0, len(sentence.split()) - 1] or []\n",
        "    prob = max((p for nt, p in results if str(nt) == 'S'), default=None)\n",
        "    print(f\"Grammatically correct. Max probability: {prob}\" if prob else \"Not grammatically correct.\")\n",
        "    return prob\n",
        "\n",
        "grammar = PCFG.fromstring(\"\"\"\n",
        "S -> NP VP [1.0]\n",
        "VP -> V NP [0.7] | VP PP [0.3]\n",
        "NP -> Det N [0.5] | NP PP [0.2] | 'John' [0.3]\n",
        "PP -> P NP [1.0]\n",
        "V -> 'saw' [0.2] | 'ate' [0.8]\n",
        "Det -> 'the' [0.6] | 'a' [0.4]\n",
        "N -> 'man' [0.5] | 'telescope' [0.5]\n",
        "P -> 'with' [0.4] | 'in' [0.6]\n",
        "\"\"\")\n",
        "if grammar:\n",
        "    final_prob = check_sentence('John saw a man with a telescope', grammar)\n"
      ],
      "metadata": {
        "colab": {
          "base_uri": "https://localhost:8080/"
        },
        "id": "eZHpmlSdd7Ia",
        "outputId": "945001fe-50b5-4f68-f653-0624c9b87aa3"
      },
      "execution_count": 9,
      "outputs": [
        {
          "output_type": "stream",
          "name": "stdout",
          "text": [
            "Grammatically correct. Max probability: 5.040000000000001e-05\n"
          ]
        }
      ]
    },
    {
      "cell_type": "code",
      "source": [],
      "metadata": {
        "id": "uaUDGK3devxY"
      },
      "execution_count": null,
      "outputs": []
    }
  ]
}