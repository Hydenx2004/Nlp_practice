{
  "nbformat": 4,
  "nbformat_minor": 0,
  "metadata": {
    "colab": {
      "provenance": []
    },
    "kernelspec": {
      "name": "python3",
      "display_name": "Python 3"
    },
    "language_info": {
      "name": "python"
    }
  },
  "cells": [
    {
      "cell_type": "code",
      "execution_count": 41,
      "metadata": {
        "id": "BUJzqZ6W2uEm"
      },
      "outputs": [],
      "source": [
        "sentences = [\n",
        "    \"Saw the phone with me.\",\n",
        "    \"Went to the meeting yesterday.\",\n",
        "    \"Told the man to wait her with\",\n",
        "    \"Gave the book to her running with\",\n",
        "    \"Saw the cat her with her.\"\n",
        "]"
      ]
    },
    {
      "cell_type": "code",
      "source": [
        "from collections import Counter"
      ],
      "metadata": {
        "id": "OK01dEsd5oq0"
      },
      "execution_count": 42,
      "outputs": []
    },
    {
      "cell_type": "code",
      "source": [
        "unigram = Counter()\n",
        "bigrams = Counter()"
      ],
      "metadata": {
        "id": "f6cR-0ko5r_6"
      },
      "execution_count": 43,
      "outputs": []
    },
    {
      "cell_type": "code",
      "source": [
        "for sent in sentences:\n",
        "  token = sent.lower().split()\n",
        "  unigram.update(token)\n",
        "  for i in range(len(token)-1):\n",
        "    bigram = (token[i], token[i+1])\n",
        "    bigrams[bigram] += 1\n",
        "print(unigram)\n",
        "print(bigrams)"
      ],
      "metadata": {
        "colab": {
          "base_uri": "https://localhost:8080/"
        },
        "id": "TqV2g7p_51aE",
        "outputId": "3b0e821e-0607-4c0f-c33d-3c45cc27df4c"
      },
      "execution_count": 44,
      "outputs": [
        {
          "output_type": "stream",
          "name": "stdout",
          "text": [
            "Counter({'the': 5, 'with': 4, 'to': 3, 'her': 3, 'saw': 2, 'phone': 1, 'me.': 1, 'went': 1, 'meeting': 1, 'yesterday.': 1, 'told': 1, 'man': 1, 'wait': 1, 'gave': 1, 'book': 1, 'running': 1, 'cat': 1, 'her.': 1})\n",
            "Counter({('saw', 'the'): 2, ('her', 'with'): 2, ('the', 'phone'): 1, ('phone', 'with'): 1, ('with', 'me.'): 1, ('went', 'to'): 1, ('to', 'the'): 1, ('the', 'meeting'): 1, ('meeting', 'yesterday.'): 1, ('told', 'the'): 1, ('the', 'man'): 1, ('man', 'to'): 1, ('to', 'wait'): 1, ('wait', 'her'): 1, ('gave', 'the'): 1, ('the', 'book'): 1, ('book', 'to'): 1, ('to', 'her'): 1, ('her', 'running'): 1, ('running', 'with'): 1, ('the', 'cat'): 1, ('cat', 'her'): 1, ('with', 'her.'): 1})\n"
          ]
        }
      ]
    },
    {
      "cell_type": "code",
      "source": [
        "noun = \"her\".lower()\n",
        "verb = \"running\".lower()\n",
        "prep = \"with\".lower()"
      ],
      "metadata": {
        "id": "UaXmhSzX6Z96"
      },
      "execution_count": 45,
      "outputs": []
    },
    {
      "cell_type": "code",
      "source": [
        "p_n = bigrams.get((noun, prep),0)/unigram.get(noun,0)\n",
        "p_0_n = 1-p_n\n",
        "p_v = bigrams.get((verb, prep),0)/unigram.get(verb,0)\n",
        "p_0_n"
      ],
      "metadata": {
        "colab": {
          "base_uri": "https://localhost:8080/"
        },
        "id": "YdXWTJy37LZ4",
        "outputId": "5140712e-7155-4e54-ee56-4571675372f5"
      },
      "execution_count": 69,
      "outputs": [
        {
          "output_type": "execute_result",
          "data": {
            "text/plain": [
              "0.33333333333333337"
            ]
          },
          "metadata": {},
          "execution_count": 69
        }
      ]
    },
    {
      "cell_type": "code",
      "source": [
        "p_n"
      ],
      "metadata": {
        "colab": {
          "base_uri": "https://localhost:8080/"
        },
        "id": "1XBYUWNm7bdU",
        "outputId": "c6b89946-e0a6-4b91-9b0a-3b9b4458921f"
      },
      "execution_count": 70,
      "outputs": [
        {
          "output_type": "execute_result",
          "data": {
            "text/plain": [
              "0.6666666666666666"
            ]
          },
          "metadata": {},
          "execution_count": 70
        }
      ]
    },
    {
      "cell_type": "code",
      "source": [
        "p_v"
      ],
      "metadata": {
        "colab": {
          "base_uri": "https://localhost:8080/"
        },
        "id": "6ASoAuwO7qB9",
        "outputId": "58886199-b77c-4793-fc46-1f4ea80c147e"
      },
      "execution_count": 71,
      "outputs": [
        {
          "output_type": "execute_result",
          "data": {
            "text/plain": [
              "1.0"
            ]
          },
          "metadata": {},
          "execution_count": 71
        }
      ]
    },
    {
      "cell_type": "code",
      "source": [
        "import math"
      ],
      "metadata": {
        "id": "vTz-vhQf7rSe"
      },
      "execution_count": 72,
      "outputs": []
    },
    {
      "cell_type": "code",
      "source": [
        "try:\n",
        "  lam = math.log2((p_v * p_0_n)/p_n)\n",
        "  if lam>0:\n",
        "    print(\"verb\")\n",
        "  if lam<0:\n",
        "    print(\"noun\")\n",
        "except:\n",
        "  print(\"no attachment\")\n"
      ],
      "metadata": {
        "colab": {
          "base_uri": "https://localhost:8080/"
        },
        "id": "3ybnl79d8oxW",
        "outputId": "e2237ced-330d-4a27-f7ac-1fcfef0693f8"
      },
      "execution_count": 73,
      "outputs": [
        {
          "output_type": "stream",
          "name": "stdout",
          "text": [
            "noun\n"
          ]
        }
      ]
    },
    {
      "cell_type": "code",
      "source": [],
      "metadata": {
        "id": "BG5NcDgr9Xdn"
      },
      "execution_count": null,
      "outputs": []
    }
  ]
}